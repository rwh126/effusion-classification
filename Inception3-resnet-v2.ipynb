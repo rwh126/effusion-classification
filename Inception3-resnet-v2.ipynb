{
 "cells": [
  {
   "cell_type": "code",
   "execution_count": null,
   "id": "d2450261",
   "metadata": {},
   "outputs": [],
   "source": [
    "from PIL import Image\n",
    "import torch\n",
    "from torch.utils import data\n",
    "import numpy as np\n",
    "from torchvision import transforms\n",
    "import torchvision\n",
    "import matplotlib.pyplot as plt\n",
    "import torch.nn.functional as F\n",
    "import torch.nn as nn\n",
    "from tqdm import tqdm\n"
   ]
  },
  {
   "cell_type": "code",
   "execution_count": null,
   "id": "0fe3ef16",
   "metadata": {},
   "outputs": [],
   "source": [
    "train_transformer=transforms.Compose(\n",
    "[  \n",
    "   transforms.RandomHorizontalFlip(0.2),\n",
    "   transforms.RandomRotation(68),\n",
    "    transforms.RandomGrayscale(0.2),\n",
    "   transforms.Resize((299,299)),\n",
    "   transforms.ToTensor(),\n",
    "   transforms.Normalize(mean=[0.5,0.5,0.5],\n",
    "                std=[0.5,0.5,0.5]) \n",
    "]\n",
    ")\n",
    "test_transformer=transforms.Compose(\n",
    "[ \n",
    "   transforms.Resize((299,299)),\n",
    "   transforms.ToTensor(),\n",
    "   transforms.Normalize(mean=[0.5,0.5,0.5],\n",
    "                std=[0.5,0.5,0.5]) \n",
    "]\n",
    ")\n"
   ]
  },
  {
   "cell_type": "code",
   "execution_count": null,
   "id": "5eb5e255",
   "metadata": {},
   "outputs": [],
   "source": [
    "train_dataset=torchvision.datasets.ImageFolder(\n",
    "  'E:/blood-cells/dataset2-master/dataset2-master/images/TRAIN',\n",
    "    transform=train_transformer\n",
    ")\n",
    "\n",
    "test_dataset=torchvision.datasets.ImageFolder(\n",
    "  'E:/blood-cells/dataset2-master/dataset2-master/images/TEST',\n",
    "   transform=test_transformer\n",
    ")\n",
    "  "
   ]
  },
  {
   "cell_type": "code",
   "execution_count": null,
   "id": "19fa86b1",
   "metadata": {},
   "outputs": [],
   "source": [
    "train_dataset.classes"
   ]
  },
  {
   "cell_type": "code",
   "execution_count": null,
   "id": "fa12158a",
   "metadata": {},
   "outputs": [],
   "source": [
    "train_dataset.class_to_idx"
   ]
  },
  {
   "cell_type": "code",
   "execution_count": null,
   "id": "036097a3",
   "metadata": {},
   "outputs": [],
   "source": [
    "id_to_class={}\n",
    "for k,v in train_dataset.class_to_idx.items():\n",
    "    print(k,v)\n",
    "    id_to_class[v]=k\n",
    "id_to_class"
   ]
  },
  {
   "cell_type": "code",
   "execution_count": null,
   "id": "4a83eebe",
   "metadata": {},
   "outputs": [],
   "source": [
    "Batch_size=12\n",
    "dl_train=torch.utils.data.DataLoader(\n",
    "        train_dataset,\n",
    "        batch_size=Batch_size,\n",
    "        shuffle=True\n",
    ")\n",
    "dl_test=torch.utils.data.DataLoader(\n",
    "        test_dataset,\n",
    "        batch_size=Batch_size,\n",
    "        shuffle=True\n",
    ")"
   ]
  },
  {
   "cell_type": "code",
   "execution_count": null,
   "id": "f3985e85",
   "metadata": {},
   "outputs": [],
   "source": [
    "img,label=next(iter(dl_train))"
   ]
  },
  {
   "cell_type": "code",
   "execution_count": null,
   "id": "0dad6ade",
   "metadata": {},
   "outputs": [],
   "source": [
    "img.shape"
   ]
  },
  {
   "cell_type": "code",
   "execution_count": null,
   "id": "22f35041",
   "metadata": {},
   "outputs": [],
   "source": [
    "im=img[0]"
   ]
  },
  {
   "cell_type": "code",
   "execution_count": null,
   "id": "c445f8ed",
   "metadata": {},
   "outputs": [],
   "source": [
    "im.shape"
   ]
  },
  {
   "cell_type": "code",
   "execution_count": null,
   "id": "6ee251a3",
   "metadata": {},
   "outputs": [],
   "source": [
    "label[0]"
   ]
  },
  {
   "cell_type": "code",
   "execution_count": null,
   "id": "3ae54b8a",
   "metadata": {},
   "outputs": [],
   "source": []
  },
  {
   "cell_type": "code",
   "execution_count": null,
   "id": "b89f0fc3",
   "metadata": {},
   "outputs": [],
   "source": [
    "im.shape"
   ]
  },
  {
   "cell_type": "code",
   "execution_count": null,
   "id": "cb7ae814",
   "metadata": {},
   "outputs": [],
   "source": [
    "im=im.permute(1,2,0)"
   ]
  },
  {
   "cell_type": "code",
   "execution_count": null,
   "id": "5e19e969",
   "metadata": {},
   "outputs": [],
   "source": [
    "im-im.numpy()\n",
    "im=(im+1)/2\n",
    "plt.imshow(im)"
   ]
  },
  {
   "cell_type": "code",
   "execution_count": null,
   "id": "24b1d8ec",
   "metadata": {},
   "outputs": [],
   "source": []
  },
  {
   "cell_type": "code",
   "execution_count": null,
   "id": "2898467c",
   "metadata": {},
   "outputs": [],
   "source": [
    "plt.figure(figsize=(12,8))\n",
    "for i,(img,label) in enumerate(zip(img[:8],label[:8])):\n",
    "    img=(img.permute(1,2,0).numpy()+1)/2\n",
    "    plt.subplot(2,4,i+1)\n",
    "    plt.title(id_to_class.get(label.item()))\n",
    "    plt.imshow(img)    "
   ]
  },
  {
   "cell_type": "code",
   "execution_count": null,
   "id": "436dc3ec",
   "metadata": {},
   "outputs": [],
   "source": [
    "##################建立神经网络"
   ]
  },
  {
   "cell_type": "code",
   "execution_count": null,
   "id": "25100c3c",
   "metadata": {},
   "outputs": [],
   "source": [
    "model=torchvision.models.Inception-Resnet-v2(init_weights=True)\n",
    "\n",
    "model.fc.out_features=4\n",
    "model"
   ]
  },
  {
   "cell_type": "code",
   "execution_count": null,
   "id": "9770c38e",
   "metadata": {},
   "outputs": [],
   "source": []
  },
  {
   "cell_type": "code",
   "execution_count": null,
   "id": "d89f6e45",
   "metadata": {},
   "outputs": [],
   "source": [
    "img,label=next(iter(dl_train))\n",
    "img.shape\n"
   ]
  },
  {
   "cell_type": "code",
   "execution_count": null,
   "id": "ac82924b",
   "metadata": {
    "scrolled": true
   },
   "outputs": [],
   "source": [
    "model.eval()\n",
    "pred=model(img)\n",
    "pred\n"
   ]
  },
  {
   "cell_type": "code",
   "execution_count": null,
   "id": "0853e05a",
   "metadata": {},
   "outputs": [],
   "source": [
    "loss_fn=nn.CrossEntropyLoss()"
   ]
  },
  {
   "cell_type": "code",
   "execution_count": null,
   "id": "04d846fc",
   "metadata": {},
   "outputs": [],
   "source": [
    "\n",
    "optim=torch.optim.Adam(model.parameters(),lr=0.00002)\n"
   ]
  },
  {
   "cell_type": "code",
   "execution_count": null,
   "id": "875a3eb3",
   "metadata": {},
   "outputs": [],
   "source": [
    "if torch.cuda.is_available():\n",
    "    model.to('cuda')\n",
    "torch.cuda.is_available()"
   ]
  },
  {
   "cell_type": "code",
   "execution_count": null,
   "id": "3d31baf8",
   "metadata": {},
   "outputs": [],
   "source": [
    "def fit(epoch, model, trainloader, testloader):\n",
    "    correct = 0\n",
    "    total = 0\n",
    "    running_loss = 0\n",
    "    model.train()\n",
    "    for x, y in tqdm(trainloader):\n",
    "        if torch.cuda.is_available():\n",
    "            x, y = x.to('cuda'), y.to('cuda')\n",
    "        y_pred = model(x).logits\n",
    "        loss = loss_fn(y_pred, y)\n",
    "        optim.zero_grad()\n",
    "        loss.backward()\n",
    "        optim.step()\n",
    "        with torch.no_grad():\n",
    "            y_pred = torch.argmax(y_pred, dim=1)\n",
    "            correct += (y_pred == y).sum().item()\n",
    "            total += y.size(0)\n",
    "            running_loss += loss.item()\n",
    "        \n",
    "    epoch_loss = running_loss / len(trainloader.dataset)\n",
    "    epoch_acc = correct / total\n",
    "        \n",
    "        \n",
    "    test_correct = 0\n",
    "    test_total = 0\n",
    "    test_running_loss = 0 \n",
    "    model.eval()\n",
    "    with torch.no_grad():\n",
    "        for x, y in tqdm(testloader):\n",
    "            if torch.cuda.is_available():\n",
    "                x, y = x.to('cuda'), y.to('cuda')\n",
    "            y_pred = model(x)\n",
    "            loss = loss_fn(y_pred, y)\n",
    "            y_pred = torch.argmax(y_pred, dim=1)\n",
    "            test_correct += (y_pred == y).sum().item()\n",
    "            test_total += y.size(0)\n",
    "            test_running_loss += loss.item()\n",
    "    \n",
    "    epoch_test_loss = test_running_loss / len(testloader.dataset)\n",
    "    epoch_test_acc = test_correct / test_total\n",
    "    \n",
    "        \n",
    "    print('epoch: ', epoch, \n",
    "          'loss： ', round(epoch_loss, 3),\n",
    "          'accuracy:', round(epoch_acc, 3),\n",
    "          'test_loss： ', round(epoch_test_loss, 3),\n",
    "          'test_accuracy:', round(epoch_test_acc, 3)\n",
    "             )\n",
    "        \n",
    "    return epoch_loss, epoch_acc, epoch_test_loss, epoch_test_acc"
   ]
  },
  {
   "cell_type": "code",
   "execution_count": null,
   "id": "f5762dd3",
   "metadata": {},
   "outputs": [],
   "source": [
    "epochs = 300"
   ]
  },
  {
   "cell_type": "code",
   "execution_count": null,
   "id": "7b0951c1",
   "metadata": {
    "scrolled": false
   },
   "outputs": [],
   "source": [
    "# train_loss = []\n",
    "# train_acc = []\n",
    "# test_loss = []\n",
    "# test_acc = []\n",
    "\n",
    "# for epoch in range(epochs):\n",
    "#     epoch_loss, epoch_acc, epoch_test_loss, epoch_test_acc = fit(epoch,\n",
    "#                                                                  model,\n",
    "#                                                                  dl_train,\n",
    "#                                                                  dl_test)\n",
    "#     train_loss.append(epoch_loss)\n",
    "#     train_acc.append(epoch_acc)\n",
    "#     test_loss.append(epoch_test_loss)\n",
    "#     test_acc.append(epoch_test_acc)"
   ]
  },
  {
   "cell_type": "code",
   "execution_count": null,
   "id": "79d7b954",
   "metadata": {
    "scrolled": true
   },
   "outputs": [],
   "source": [
    "plt.plot(range(1, epochs+1), train_loss, label='train_loss')\n",
    "plt.plot(range(1, epochs+1), test_loss, label='test_loss')\n",
    "plt.legend()"
   ]
  },
  {
   "cell_type": "code",
   "execution_count": null,
   "id": "02e58b3a",
   "metadata": {
    "scrolled": true
   },
   "outputs": [],
   "source": [
    "plt.plot(range(1, epochs+1), train_acc, label='train_acc')\n",
    "plt.plot(range(1, epochs+1), test_acc, label='test_acc')\n",
    "plt.legend()"
   ]
  },
  {
   "cell_type": "code",
   "execution_count": null,
   "id": "2872dfe9",
   "metadata": {},
   "outputs": [],
   "source": [
    "torch.save(model,'Bloodcell.pth')"
   ]
  },
  {
   "cell_type": "code",
   "execution_count": null,
   "id": "ce347bd9",
   "metadata": {},
   "outputs": [],
   "source": [
    "model=torch.load('Bloodcell.pth')\n",
    "model"
   ]
  },
  {
   "cell_type": "code",
   "execution_count": null,
   "id": "2099d2a5",
   "metadata": {},
   "outputs": [],
   "source": [
    "img,label=next(iter(dl_test))\n",
    "img.shape"
   ]
  },
  {
   "cell_type": "code",
   "execution_count": null,
   "id": "2f53c2d4",
   "metadata": {},
   "outputs": [],
   "source": [
    "img=img.to('cuda')\n",
    "pred=model(img)\n",
    "pred.shape"
   ]
  },
  {
   "cell_type": "code",
   "execution_count": null,
   "id": "d7d93562",
   "metadata": {
    "scrolled": true
   },
   "outputs": [],
   "source": [
    "pred_re=torch.argmax(pred, dim=1)\n",
    "pred_re\n",
    "pred_re=pred_re.cpu().numpy()\n",
    "pred_re=pred_re.tolist()\n",
    "pred_re"
   ]
  },
  {
   "cell_type": "code",
   "execution_count": null,
   "id": "ca7eb772",
   "metadata": {},
   "outputs": [],
   "source": [
    "\n",
    "for i in pred_re[0:8]:\n",
    "    print(id_to_class[i])\n",
    "id_to_class[pred_re[0:8][1]]"
   ]
  },
  {
   "cell_type": "code",
   "execution_count": null,
   "id": "9d4b228a",
   "metadata": {},
   "outputs": [],
   "source": [
    "plt.figure(figsize=(16,8))\n",
    "img=img.cpu()\n",
    "for i,(img,label) in enumerate(zip(img[:8],label[:8])):\n",
    "    img=(img.permute(1,2,0).numpy()+1)/2\n",
    "    plt.subplot(2,4,i+1)\n",
    "    pred_title=id_to_class[pred_re[0:8][i]]\n",
    "    plt.title('R:{},P:{}'.format(id_to_class.get(label.item()),pred_title))\n",
    "    plt.imshow(img) "
   ]
  },
  {
   "cell_type": "code",
   "execution_count": null,
   "id": "513488f6",
   "metadata": {},
   "outputs": [],
   "source": []
  }
 ],
 "metadata": {
  "kernelspec": {
   "display_name": "Python 3",
   "language": "python",
   "name": "python3"
  },
  "language_info": {
   "codemirror_mode": {
    "name": "ipython",
    "version": 3
   },
   "file_extension": ".py",
   "mimetype": "text/x-python",
   "name": "python",
   "nbconvert_exporter": "python",
   "pygments_lexer": "ipython3",
   "version": "3.8.8"
  }
 },
 "nbformat": 4,
 "nbformat_minor": 5
}
